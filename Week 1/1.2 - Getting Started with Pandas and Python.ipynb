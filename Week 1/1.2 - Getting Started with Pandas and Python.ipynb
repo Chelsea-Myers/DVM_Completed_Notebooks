{
 "cells": [
  {
   "cell_type": "markdown",
   "metadata": {},
   "source": [
    "# Some Python Basics\n",
    "\n",
    "## Variables"
   ]
  },
  {
   "cell_type": "markdown",
   "metadata": {},
   "source": [
    "Variables in Python are dynamically typed, meaning that the type is inferred from assignment, which is often referred to as duck typing (if it acts like a duck and looks like a duck, its a duck).  \n"
   ]
  },
  {
   "cell_type": "code",
   "execution_count": 10,
   "metadata": {},
   "outputs": [
    {
     "name": "stdout",
     "output_type": "stream",
     "text": [
      "5 100 True None I can be anything\n"
     ]
    }
   ],
   "source": [
    "var1 = 5\n",
    "var2 = 100\n",
    "var3 = True\n",
    "var4 = None\n",
    "var5 = \"I can be anything\"\n",
    "print(var1, var2, var3, var4, var5)"
   ]
  },
  {
   "cell_type": "markdown",
   "metadata": {},
   "source": [
    "To get more inforation on a variables type, you can use either the type() function."
   ]
  },
  {
   "cell_type": "code",
   "execution_count": 11,
   "metadata": {},
   "outputs": [
    {
     "name": "stdout",
     "output_type": "stream",
     "text": [
      "<class 'int'> <class 'str'>\n"
     ]
    }
   ],
   "source": [
    "var6 = 100\n",
    "var7 = \"darkness\"\n",
    "print(type(var6), type(var7))"
   ]
  },
  {
   "cell_type": "markdown",
   "metadata": {},
   "source": [
    "We can also get input from users to fill our variables."
   ]
  },
  {
   "cell_type": "code",
   "execution_count": 12,
   "metadata": {
    "tags": []
   },
   "outputs": [
    {
     "name": "stdin",
     "output_type": "stream",
     "text": [
      "whats your name?  Chelsea\n"
     ]
    },
    {
     "name": "stdout",
     "output_type": "stream",
     "text": [
      "Hello, Chelsea\n"
     ]
    }
   ],
   "source": [
    "var8 = input(\"whats your name? \")\n",
    "print(\"Hello, \" + var8)"
   ]
  },
  {
   "cell_type": "markdown",
   "metadata": {},
   "source": [
    "## Booleans"
   ]
  },
  {
   "cell_type": "markdown",
   "metadata": {},
   "source": [
    "Booleans can be handy when working with dataframes, as we will see later.  You can also add them and they are interpreted as False = 0 and True = 1"
   ]
  },
  {
   "cell_type": "code",
   "execution_count": 13,
   "metadata": {
    "tags": []
   },
   "outputs": [
    {
     "name": "stdout",
     "output_type": "stream",
     "text": [
      "True False 1\n"
     ]
    }
   ],
   "source": [
    "var9 = True\n",
    "var10 = False\n",
    "var11 = var9 + var10\n",
    "print(var9, var10, var11)"
   ]
  },
  {
   "cell_type": "markdown",
   "metadata": {},
   "source": [
    "## Strings\n",
    "Strings in Python are created with ' or \" and are immutable, if changes need to be made to a string a new one is returned.  The default encoding for strings in Python is Unicode UTF-8, this means that they are automatically compatible with different languages.  Python strings work similar to STL strings since they are classes with support functions built in, however in Python the amount of functionality is much larger."
   ]
  },
  {
   "cell_type": "code",
   "execution_count": 14,
   "metadata": {},
   "outputs": [
    {
     "name": "stdout",
     "output_type": "stream",
     "text": [
      "hello world, python\n"
     ]
    }
   ],
   "source": [
    "var12 = 'Hello ' + \"world, \" + \"Python\"\n",
    "var13 = var12.lower()\n",
    "\n",
    "print(var13)"
   ]
  },
  {
   "cell_type": "markdown",
   "metadata": {},
   "source": [
    "## Lists\n",
    "In c++ choosing which container to use is actually very important (list, queue, stack, vector, array?), in Python this choice is simplified into a single container that has the functionality of everything.  To create a list use the square brackets [].  Notice that the types don't have to match, we don't care about variable types."
   ]
  },
  {
   "cell_type": "code",
   "execution_count": 15,
   "metadata": {},
   "outputs": [
    {
     "name": "stdout",
     "output_type": "stream",
     "text": [
      "[1, 2, 3, 4, 5.0, 6.0, True, False, 123]\n"
     ]
    }
   ],
   "source": [
    "list1 = [1, 2, 3, 4, 5.0, 6.0, True, False]\n",
    "\n",
    "list1.append(123)\n",
    "\n",
    "print(list1)"
   ]
  },
  {
   "cell_type": "markdown",
   "metadata": {},
   "source": [
    "# Pandas\n",
    "In the last lesson, we got to see Pandas in action by using it to make some visualizations of the Titanic data.  Let's take some time to explore some of the cool features of Python and Pandas.\n",
    "\n",
    "## The History of Pandas\n",
    "\n",
    "Origins:\n",
    "\n",
    "* 2008: The Pandas project was started by Wes McKinney when he was working at AQR Capital Management. The main motivation was to have a flexible tool to perform quantitative analysis on financial data. The name \"pandas\" is derived from the term \"panel data,\" a common term for data that involves observations over time.\n",
    "\n",
    "Early Development:\n",
    "\n",
    "* 2009: Wes McKinney released the first public version of pandas. The initial versions laid the foundation with data structures like Series and DataFrame, which have since become staples for data manipulation in Python.\n",
    "\n",
    "Increasing Adoption:\n",
    "\n",
    "* 2010s: As data science and Python grew in popularity during the 2010s, so did pandas. It quickly became one of the cornerstones of the scientific stack in Python alongside libraries like NumPy, SciPy, and Matplotlib.\n",
    "The library received significant contributions from many developers worldwide, enhancing its capabilities and making it more robust.\n",
    "\n",
    "Books and Documentation:\n",
    "\n",
    "* 2012: Wes McKinney published \"Python for Data Analysis,\" which prominently features pandas and its application in data analysis. This book played a crucial role in introducing many individuals to pandas and data analysis in Python.\n",
    "\n",
    "\n",
    "Pandas is often seen as a gateway to data science in Python. Its simple yet powerful interface makes it a favorite for beginners and professionals alike.\n",
    "With the rise of big data tools like Apache Spark, Dask, and Vaex, pandas also integrates with these tools, allowing users to scale their analyses when necessary.\n",
    "\n",
    "## DataFrames and Series\n",
    "\n",
    "The DataFrame is the primary structure we will be using for this class.  It is an associative, two dimensional data structure. Imagine a spreadsheet page,  SQL table, or flat file.  The series object is a one dimensional data structure that represents a single column of data.\n",
    "\n",
    "We can manually create a DataFrame from dictionaries, lists, series, and much else.  We can also add new features to a DataFrame, or even combine multiple DataFrames.  If our data is provided to us we can read or write to a variety of different formats: CSV, Excel, SQL, JSON, URL, clipboard, etc.\n",
    "\n",
    "A series object can be thought of as single column of a DataFrame."
   ]
  },
  {
   "cell_type": "markdown",
   "metadata": {},
   "source": [
    "## Common useful Pandas methods\n",
    "\n",
    "### DataFrame Creation and Input/Output\n",
    "- `pd.DataFrame()`: Create a DataFrame.\n",
    "- `pd.read_csv()`: Read a CSV file into a DataFrame.\n",
    "- `pd.read_excel()`: Read an Excel file into a DataFrame.\n",
    "- `df.to_csv()`: Write a DataFrame to a CSV file.\n",
    "- `df.to_excel()`: Write a DataFrame to an Excel file.\n",
    "\n",
    "### Viewing and Inspecting Data\n",
    "- `df.head()`: View the first few rows of the DataFrame.\n",
    "- `df.tail()`: View the last few rows of the DataFrame.\n",
    "- `df.info()`: Get a concise summary of the DataFrame.\n",
    "- `df.describe()`: Generate descriptive statistics.\n",
    "- `df.shape`: Get the dimensions of the DataFrame.\n",
    "- `df.columns`: Get the column labels.\n",
    "- `df.index`: Get the row labels.\n",
    "\n",
    "### Selection and Filtering\n",
    "- `df.loc[]`: Access a group of rows and columns by labels.\n",
    "- `df.iloc[]`: Access a group of rows and columns by integer position.\n",
    "- `df[df['column'] > value]`: Filter rows based on column values.\n",
    "- `df.query()`: Query the DataFrame with a boolean expression.\n",
    "\n",
    "### Grouping and Aggregation\n",
    "- `df.groupby()`: Group data by one or more columns.\n",
    "- `df.agg()`: Aggregate using one or more operations over the specified axis.\n",
    "- `df.size()`: Get the size of the DataFrame.\n",
    "- `df.sum()`: Compute the sum of values.\n",
    "- `df.mean()`: Compute the mean of values.\n",
    "- `df.median()`: Compute the median of values.\n",
    "- `df.min()`: Compute the minimum of values.\n",
    "- `df.max()`: Compute the maximum of values.\n",
    "- `df.count()`: Count the number of non-NA/null observations.\n",
    "\n",
    "### Data Cleaning and Preparation\n",
    "- `df.drop()`: Drop specified labels from rows or columns.\n",
    "- `df.dropna()`: Remove missing values.\n",
    "- `df.fillna()`: Fill missing values.\n",
    "- `df.replace()`: Replace values.\n",
    "- `df.rename()`: Rename labels.\n",
    "- `df.astype()`: Cast a pandas object to a specified dtype.\n",
    "- `df.sort_values()`: Sort by the values along either axis.\n",
    "- `df.sort_index()`: Sort by the index.\n",
    "- `df.set_index()`: Set the DataFrame index using existing columns.\n",
    "- `df.reset_index()`: Reset the index, or a level of it.\n",
    "\n",
    "### Merging and Joining\n",
    "- `pd.merge()`: Merge DataFrame objects by performing a database-style join.\n",
    "- `df.join()`: Join columns with other DataFrame.\n",
    "- `pd.concat()`: Concatenate pandas objects along a particular axis.\n",
    "\n",
    "### Date and Time\n",
    "- `pd.to_datetime()`: Convert argument to datetime.\n",
    "- `df['column'].dt`: Accessor object for datetime-like properties.\n",
    "\n",
    "### String Methods\n",
    "- `df['column'].str`: Accessor object for string methods.\n",
    "- `df['column'].str.contains()`: Test if pattern or regex is contained within a string of a Series or Index.\n",
    "- `df['column'].str.replace()`: Replace occurrences of pattern/regex/string with some other string.\n",
    "\n",
    "### Statistical Functions\n",
    "- `df.corr()`: Compute pairwise correlation of columns.\n",
    "- `df.cov()`: Compute pairwise covariance of columns.\n",
    "- `df.var()`: Compute variance of columns.\n",
    "- `df.std()`: Compute standard deviation of columns.\n",
    "- `df.mad()`: Compute mean absolute deviation of columns.\n",
    "- `df.kurt()`: Compute kurtosis of columns.\n",
    "- `df.skew()`: Compute skewness of columns.\n",
    "\n",
    "### Visualization\n",
    "- `df.plot()`: Make plots of DataFrame using matplotlib.\n",
    "\n",
    "### Miscellaneous\n",
    "- `df.pivot()`: Produce pivot table based on 3 columns of this DataFrame.\n",
    "- `df.pivot_table()`: Create a spreadsheet-style pivot table as a DataFrame.\n",
    "- `df.apply()`: Apply a function along an axis of the DataFrame.\n",
    "- `df.applymap()`: Apply a function to a DataFrame elementwise.\n"
   ]
  },
  {
   "cell_type": "markdown",
   "metadata": {
    "tags": []
   },
   "source": [
    "## Data wrangling"
   ]
  },
  {
   "cell_type": "markdown",
   "metadata": {},
   "source": [
    "Let's explore the Instacart data to understand more about purchasing habits using Pandas methods."
   ]
  },
  {
   "cell_type": "markdown",
   "metadata": {},
   "source": [
    "### Frequency Tables\n",
    "\n",
    "What are the top 10 most commonly ordered products"
   ]
  },
  {
   "cell_type": "code",
   "execution_count": 16,
   "metadata": {},
   "outputs": [
    {
     "data": {
      "text/plain": [
       "product_name\n",
       "Banana                    465\n",
       "Bag of Organic Bananas    411\n",
       "Organic Strawberries      291\n",
       "Organic Baby Spinach      244\n",
       "Organic Hass Avocado      222\n",
       "Large Lemon               187\n",
       "Organic Avocado           179\n",
       "Strawberries              152\n",
       "Organic Whole Milk        145\n",
       "Limes                     141\n",
       "dtype: int64"
      ]
     },
     "execution_count": 16,
     "metadata": {},
     "output_type": "execute_result"
    }
   ],
   "source": [
    "import pandas as pd\n",
    "\n",
    "df = pd.read_csv('assets/instacart_sample.csv')\n",
    "\n",
    "df.groupby('product_name').size().sort_values(ascending=False).head(10)"
   ]
  },
  {
   "cell_type": "markdown",
   "metadata": {},
   "source": [
    "### Sorting\n",
    "\n",
    "Can we sort the dataset by the name of the product in alphabetical order?"
   ]
  },
  {
   "cell_type": "code",
   "execution_count": 17,
   "metadata": {},
   "outputs": [
    {
     "data": {
      "text/html": [
       "<div>\n",
       "<style scoped>\n",
       "    .dataframe tbody tr th:only-of-type {\n",
       "        vertical-align: middle;\n",
       "    }\n",
       "\n",
       "    .dataframe tbody tr th {\n",
       "        vertical-align: top;\n",
       "    }\n",
       "\n",
       "    .dataframe thead th {\n",
       "        text-align: right;\n",
       "    }\n",
       "</style>\n",
       "<table border=\"1\" class=\"dataframe\">\n",
       "  <thead>\n",
       "    <tr style=\"text-align: right;\">\n",
       "      <th></th>\n",
       "      <th>order_id</th>\n",
       "      <th>product_id</th>\n",
       "      <th>add_to_cart_order</th>\n",
       "      <th>reordered</th>\n",
       "      <th>user_id</th>\n",
       "      <th>eval_set</th>\n",
       "      <th>order_number</th>\n",
       "      <th>order_dow</th>\n",
       "      <th>order_hour_of_day</th>\n",
       "      <th>days_since_prior_order</th>\n",
       "      <th>product_name</th>\n",
       "      <th>aisle_id</th>\n",
       "      <th>department_id</th>\n",
       "    </tr>\n",
       "  </thead>\n",
       "  <tbody>\n",
       "    <tr>\n",
       "      <th>26986</th>\n",
       "      <td>2655954</td>\n",
       "      <td>25773</td>\n",
       "      <td>1</td>\n",
       "      <td>0</td>\n",
       "      <td>5996</td>\n",
       "      <td>prior</td>\n",
       "      <td>17</td>\n",
       "      <td>2</td>\n",
       "      <td>19</td>\n",
       "      <td>1.0</td>\n",
       "      <td>#2 Coffee Filters</td>\n",
       "      <td>26</td>\n",
       "      <td>7</td>\n",
       "    </tr>\n",
       "    <tr>\n",
       "      <th>21744</th>\n",
       "      <td>672887</td>\n",
       "      <td>3756</td>\n",
       "      <td>3</td>\n",
       "      <td>1</td>\n",
       "      <td>146132</td>\n",
       "      <td>prior</td>\n",
       "      <td>3</td>\n",
       "      <td>0</td>\n",
       "      <td>14</td>\n",
       "      <td>30.0</td>\n",
       "      <td>0% Fat Blueberry Greek Yogurt</td>\n",
       "      <td>120</td>\n",
       "      <td>16</td>\n",
       "    </tr>\n",
       "    <tr>\n",
       "      <th>5343</th>\n",
       "      <td>978516</td>\n",
       "      <td>49517</td>\n",
       "      <td>6</td>\n",
       "      <td>1</td>\n",
       "      <td>113937</td>\n",
       "      <td>prior</td>\n",
       "      <td>24</td>\n",
       "      <td>5</td>\n",
       "      <td>20</td>\n",
       "      <td>5.0</td>\n",
       "      <td>0% Fat Free Organic Milk</td>\n",
       "      <td>84</td>\n",
       "      <td>16</td>\n",
       "    </tr>\n",
       "    <tr>\n",
       "      <th>3286</th>\n",
       "      <td>1954933</td>\n",
       "      <td>49517</td>\n",
       "      <td>6</td>\n",
       "      <td>1</td>\n",
       "      <td>113937</td>\n",
       "      <td>prior</td>\n",
       "      <td>41</td>\n",
       "      <td>5</td>\n",
       "      <td>19</td>\n",
       "      <td>5.0</td>\n",
       "      <td>0% Fat Free Organic Milk</td>\n",
       "      <td>84</td>\n",
       "      <td>16</td>\n",
       "    </tr>\n",
       "    <tr>\n",
       "      <th>17306</th>\n",
       "      <td>2958521</td>\n",
       "      <td>49517</td>\n",
       "      <td>1</td>\n",
       "      <td>0</td>\n",
       "      <td>136800</td>\n",
       "      <td>train</td>\n",
       "      <td>4</td>\n",
       "      <td>4</td>\n",
       "      <td>7</td>\n",
       "      <td>9.0</td>\n",
       "      <td>0% Fat Free Organic Milk</td>\n",
       "      <td>84</td>\n",
       "      <td>16</td>\n",
       "    </tr>\n",
       "    <tr>\n",
       "      <th>19338</th>\n",
       "      <td>2843518</td>\n",
       "      <td>49517</td>\n",
       "      <td>3</td>\n",
       "      <td>1</td>\n",
       "      <td>33524</td>\n",
       "      <td>prior</td>\n",
       "      <td>51</td>\n",
       "      <td>2</td>\n",
       "      <td>8</td>\n",
       "      <td>4.0</td>\n",
       "      <td>0% Fat Free Organic Milk</td>\n",
       "      <td>84</td>\n",
       "      <td>16</td>\n",
       "    </tr>\n",
       "    <tr>\n",
       "      <th>422</th>\n",
       "      <td>3267808</td>\n",
       "      <td>22022</td>\n",
       "      <td>11</td>\n",
       "      <td>1</td>\n",
       "      <td>44240</td>\n",
       "      <td>prior</td>\n",
       "      <td>4</td>\n",
       "      <td>6</td>\n",
       "      <td>0</td>\n",
       "      <td>0.0</td>\n",
       "      <td>0% Fat Greek Yogurt Black Cherry on the Bottom</td>\n",
       "      <td>120</td>\n",
       "      <td>16</td>\n",
       "    </tr>\n",
       "    <tr>\n",
       "      <th>18124</th>\n",
       "      <td>1589871</td>\n",
       "      <td>37508</td>\n",
       "      <td>10</td>\n",
       "      <td>0</td>\n",
       "      <td>106438</td>\n",
       "      <td>prior</td>\n",
       "      <td>2</td>\n",
       "      <td>2</td>\n",
       "      <td>10</td>\n",
       "      <td>30.0</td>\n",
       "      <td>0% Fat Organic Greek Vanilla Yogurt</td>\n",
       "      <td>120</td>\n",
       "      <td>16</td>\n",
       "    </tr>\n",
       "    <tr>\n",
       "      <th>24153</th>\n",
       "      <td>1563269</td>\n",
       "      <td>37508</td>\n",
       "      <td>2</td>\n",
       "      <td>1</td>\n",
       "      <td>36287</td>\n",
       "      <td>prior</td>\n",
       "      <td>27</td>\n",
       "      <td>1</td>\n",
       "      <td>12</td>\n",
       "      <td>13.0</td>\n",
       "      <td>0% Fat Organic Greek Vanilla Yogurt</td>\n",
       "      <td>120</td>\n",
       "      <td>16</td>\n",
       "    </tr>\n",
       "    <tr>\n",
       "      <th>20129</th>\n",
       "      <td>340759</td>\n",
       "      <td>38928</td>\n",
       "      <td>4</td>\n",
       "      <td>1</td>\n",
       "      <td>41852</td>\n",
       "      <td>prior</td>\n",
       "      <td>5</td>\n",
       "      <td>4</td>\n",
       "      <td>19</td>\n",
       "      <td>24.0</td>\n",
       "      <td>0% Greek Strained Yogurt</td>\n",
       "      <td>120</td>\n",
       "      <td>16</td>\n",
       "    </tr>\n",
       "  </tbody>\n",
       "</table>\n",
       "</div>"
      ],
      "text/plain": [
       "       order_id  product_id  add_to_cart_order  reordered  user_id eval_set  \\\n",
       "26986   2655954       25773                  1          0     5996    prior   \n",
       "21744    672887        3756                  3          1   146132    prior   \n",
       "5343     978516       49517                  6          1   113937    prior   \n",
       "3286    1954933       49517                  6          1   113937    prior   \n",
       "17306   2958521       49517                  1          0   136800    train   \n",
       "19338   2843518       49517                  3          1    33524    prior   \n",
       "422     3267808       22022                 11          1    44240    prior   \n",
       "18124   1589871       37508                 10          0   106438    prior   \n",
       "24153   1563269       37508                  2          1    36287    prior   \n",
       "20129    340759       38928                  4          1    41852    prior   \n",
       "\n",
       "       order_number  order_dow  order_hour_of_day  days_since_prior_order  \\\n",
       "26986            17          2                 19                     1.0   \n",
       "21744             3          0                 14                    30.0   \n",
       "5343             24          5                 20                     5.0   \n",
       "3286             41          5                 19                     5.0   \n",
       "17306             4          4                  7                     9.0   \n",
       "19338            51          2                  8                     4.0   \n",
       "422               4          6                  0                     0.0   \n",
       "18124             2          2                 10                    30.0   \n",
       "24153            27          1                 12                    13.0   \n",
       "20129             5          4                 19                    24.0   \n",
       "\n",
       "                                         product_name  aisle_id  department_id  \n",
       "26986                               #2 Coffee Filters        26              7  \n",
       "21744                   0% Fat Blueberry Greek Yogurt       120             16  \n",
       "5343                         0% Fat Free Organic Milk        84             16  \n",
       "3286                         0% Fat Free Organic Milk        84             16  \n",
       "17306                        0% Fat Free Organic Milk        84             16  \n",
       "19338                        0% Fat Free Organic Milk        84             16  \n",
       "422    0% Fat Greek Yogurt Black Cherry on the Bottom       120             16  \n",
       "18124             0% Fat Organic Greek Vanilla Yogurt       120             16  \n",
       "24153             0% Fat Organic Greek Vanilla Yogurt       120             16  \n",
       "20129                        0% Greek Strained Yogurt       120             16  "
      ]
     },
     "execution_count": 17,
     "metadata": {},
     "output_type": "execute_result"
    }
   ],
   "source": [
    "\n",
    "sorted_df = df.sort_values(by='product_name')\n",
    "sorted_df.head(10)"
   ]
  },
  {
   "cell_type": "markdown",
   "metadata": {},
   "source": [
    "### Groupby\n",
    "\n",
    "For each user, what is the order size for each user?"
   ]
  },
  {
   "cell_type": "code",
   "execution_count": 22,
   "metadata": {
    "tags": []
   },
   "outputs": [
    {
     "data": {
      "text/plain": [
       "user_id\n",
       "10         5.0\n",
       "14         8.0\n",
       "17         1.0\n",
       "19        20.0\n",
       "27         5.0\n",
       "          ... \n",
       "206172     1.0\n",
       "206174    17.0\n",
       "206178     9.0\n",
       "206180     9.0\n",
       "206184     6.0\n",
       "Name: add_to_cart_order, Length: 28171, dtype: float64"
      ]
     },
     "execution_count": 22,
     "metadata": {},
     "output_type": "execute_result"
    }
   ],
   "source": [
    "order_size = df.groupby(['user_id', 'order_id'])['add_to_cart_order'].max()\n",
    "mean_order = order_size.groupby('user_id').mean()\n",
    "mean_order"
   ]
  },
  {
   "cell_type": "markdown",
   "metadata": {},
   "source": [
    "### Subsets\n"
   ]
  },
  {
   "cell_type": "markdown",
   "metadata": {},
   "source": [
    "Create a subset of products that contain banans (product_name = Banana, Bunch of Bananas, banana flavor, etc.)"
   ]
  },
  {
   "cell_type": "code",
   "execution_count": 23,
   "metadata": {
    "tags": []
   },
   "outputs": [
    {
     "data": {
      "text/html": [
       "<div>\n",
       "<style scoped>\n",
       "    .dataframe tbody tr th:only-of-type {\n",
       "        vertical-align: middle;\n",
       "    }\n",
       "\n",
       "    .dataframe tbody tr th {\n",
       "        vertical-align: top;\n",
       "    }\n",
       "\n",
       "    .dataframe thead th {\n",
       "        text-align: right;\n",
       "    }\n",
       "</style>\n",
       "<table border=\"1\" class=\"dataframe\">\n",
       "  <thead>\n",
       "    <tr style=\"text-align: right;\">\n",
       "      <th></th>\n",
       "      <th>order_id</th>\n",
       "      <th>product_id</th>\n",
       "      <th>add_to_cart_order</th>\n",
       "      <th>reordered</th>\n",
       "      <th>user_id</th>\n",
       "      <th>eval_set</th>\n",
       "      <th>order_number</th>\n",
       "      <th>order_dow</th>\n",
       "      <th>order_hour_of_day</th>\n",
       "      <th>days_since_prior_order</th>\n",
       "      <th>product_name</th>\n",
       "      <th>aisle_id</th>\n",
       "      <th>department_id</th>\n",
       "    </tr>\n",
       "  </thead>\n",
       "  <tbody>\n",
       "    <tr>\n",
       "      <th>26</th>\n",
       "      <td>1959304</td>\n",
       "      <td>24852</td>\n",
       "      <td>2</td>\n",
       "      <td>1</td>\n",
       "      <td>62292</td>\n",
       "      <td>prior</td>\n",
       "      <td>8</td>\n",
       "      <td>2</td>\n",
       "      <td>18</td>\n",
       "      <td>28.0</td>\n",
       "      <td>Banana</td>\n",
       "      <td>24</td>\n",
       "      <td>4</td>\n",
       "    </tr>\n",
       "    <tr>\n",
       "      <th>35</th>\n",
       "      <td>2247363</td>\n",
       "      <td>24852</td>\n",
       "      <td>1</td>\n",
       "      <td>1</td>\n",
       "      <td>188096</td>\n",
       "      <td>prior</td>\n",
       "      <td>16</td>\n",
       "      <td>3</td>\n",
       "      <td>9</td>\n",
       "      <td>6.0</td>\n",
       "      <td>Banana</td>\n",
       "      <td>24</td>\n",
       "      <td>4</td>\n",
       "    </tr>\n",
       "    <tr>\n",
       "      <th>71</th>\n",
       "      <td>2637446</td>\n",
       "      <td>24852</td>\n",
       "      <td>4</td>\n",
       "      <td>1</td>\n",
       "      <td>48409</td>\n",
       "      <td>prior</td>\n",
       "      <td>18</td>\n",
       "      <td>1</td>\n",
       "      <td>8</td>\n",
       "      <td>15.0</td>\n",
       "      <td>Banana</td>\n",
       "      <td>24</td>\n",
       "      <td>4</td>\n",
       "    </tr>\n",
       "    <tr>\n",
       "      <th>77</th>\n",
       "      <td>3218842</td>\n",
       "      <td>24852</td>\n",
       "      <td>3</td>\n",
       "      <td>1</td>\n",
       "      <td>195231</td>\n",
       "      <td>prior</td>\n",
       "      <td>14</td>\n",
       "      <td>2</td>\n",
       "      <td>16</td>\n",
       "      <td>27.0</td>\n",
       "      <td>Banana</td>\n",
       "      <td>24</td>\n",
       "      <td>4</td>\n",
       "    </tr>\n",
       "    <tr>\n",
       "      <th>112</th>\n",
       "      <td>1955087</td>\n",
       "      <td>24852</td>\n",
       "      <td>2</td>\n",
       "      <td>1</td>\n",
       "      <td>138539</td>\n",
       "      <td>prior</td>\n",
       "      <td>5</td>\n",
       "      <td>6</td>\n",
       "      <td>8</td>\n",
       "      <td>8.0</td>\n",
       "      <td>Banana</td>\n",
       "      <td>24</td>\n",
       "      <td>4</td>\n",
       "    </tr>\n",
       "  </tbody>\n",
       "</table>\n",
       "</div>"
      ],
      "text/plain": [
       "     order_id  product_id  add_to_cart_order  reordered  user_id eval_set  \\\n",
       "26    1959304       24852                  2          1    62292    prior   \n",
       "35    2247363       24852                  1          1   188096    prior   \n",
       "71    2637446       24852                  4          1    48409    prior   \n",
       "77    3218842       24852                  3          1   195231    prior   \n",
       "112   1955087       24852                  2          1   138539    prior   \n",
       "\n",
       "     order_number  order_dow  order_hour_of_day  days_since_prior_order  \\\n",
       "26              8          2                 18                    28.0   \n",
       "35             16          3                  9                     6.0   \n",
       "71             18          1                  8                    15.0   \n",
       "77             14          2                 16                    27.0   \n",
       "112             5          6                  8                     8.0   \n",
       "\n",
       "    product_name  aisle_id  department_id  \n",
       "26        Banana        24              4  \n",
       "35        Banana        24              4  \n",
       "71        Banana        24              4  \n",
       "77        Banana        24              4  \n",
       "112       Banana        24              4  "
      ]
     },
     "execution_count": 23,
     "metadata": {},
     "output_type": "execute_result"
    }
   ],
   "source": [
    "bananas = df[df['product_name'].str.contains('banana', case=False)]\n",
    "\n",
    "bananas.head()"
   ]
  },
  {
   "cell_type": "markdown",
   "metadata": {},
   "source": [
    "### Feature engineering"
   ]
  },
  {
   "cell_type": "markdown",
   "metadata": {},
   "source": [
    "What is the most commonly ordered product for each time of day where time of day is categorized as early morning (4 - noon), afternoon (noon - 8pm), and night (8am to 4am)?"
   ]
  },
  {
   "cell_type": "code",
   "execution_count": 28,
   "metadata": {
    "tags": []
   },
   "outputs": [
    {
     "data": {
      "text/plain": [
       "time_of_day\n",
       "Afternoon        8.213755\n",
       "Early Morning    8.527152\n",
       "Night            8.813728\n",
       "Name: add_to_cart_order, dtype: float64"
      ]
     },
     "execution_count": 28,
     "metadata": {},
     "output_type": "execute_result"
    }
   ],
   "source": [
    "\n",
    "# Create a new column for time of day using .loc\n",
    "df['time_of_day'] = 'Night'  # Default category\n",
    "    \n",
    "# Use .loc to categorize times of day\n",
    "df.loc[(df['order_hour_of_day'] >= 4) & (df['order_hour_of_day'] < 12), 'time_of_day'] = 'Early Morning'\n",
    "df.loc[(df['order_hour_of_day'] >= 12) & (df['order_hour_of_day'] < 20), 'time_of_day'] = 'Afternoon'\n",
    "    \n",
    "    \n",
    "# Group by order_id and day of week to get order sizes\n",
    "order_sizes = df.groupby(['order_id', 'time_of_day'])['add_to_cart_order'].max()\n",
    "\n",
    "# Calculate average order size by time of day\n",
    "avg_order_sizes = order_sizes.groupby('time_of_day').mean()\n",
    "avg_order_sizes\n",
    "    \n",
    "# Sort the days in the typical calendar order\n",
    "#sorted_days = ['Sunday', 'Monday', 'Tuesday', 'Wednesday', 'Thursday', 'Friday', 'Saturday']\n",
    "#avg_order_sizes = avg_order_sizes.reindex(sorted_days)"
   ]
  },
  {
   "cell_type": "code",
   "execution_count": null,
   "metadata": {},
   "outputs": [],
   "source": []
  }
 ],
 "metadata": {
  "anaconda-cloud": {},
  "kernelspec": {
   "display_name": "Python 3 (ipykernel)",
   "language": "python",
   "name": "python3"
  },
  "language_info": {
   "codemirror_mode": {
    "name": "ipython",
    "version": 3
   },
   "file_extension": ".py",
   "mimetype": "text/x-python",
   "name": "python",
   "nbconvert_exporter": "python",
   "pygments_lexer": "ipython3",
   "version": "3.11.4"
  },
  "vscode": {
   "interpreter": {
    "hash": "ce119b89bc2e74c761eac86109834d120346842bff8d13cbadf57b85ac0c1fd2"
   }
  }
 },
 "nbformat": 4,
 "nbformat_minor": 4
}
